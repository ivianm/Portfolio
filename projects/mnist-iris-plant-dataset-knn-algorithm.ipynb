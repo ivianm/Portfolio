{
 "cells": [
  {
   "cell_type": "markdown",
   "metadata": {
    "id": "2noXIoIeOSQX"
   },
   "source": [
    "# MNIST and Iris Plant - Coding a k-NN Algorithm\n",
    "We will work with two different datasets:\n",
    "1.  MNIST 🔢\n",
    "2.  Iris Plant Dataset 🪴\n",
    "\n",
    "**Part 1:** Go through all of the code for a simple implementation of the sklearn KNN model using the MNIST dataset. \n",
    "\n",
    "\n",
    "**Part 2:** Reimplement this code but with the [Iris plants dataset](https://scikit-learn.org/stable/datasets/toy_dataset.html).\n",
    "\n",
    "- Exercise done as part of the Caregivers & Machine Learning Course from Vector Insitute. \n",
    "\n",
    "\n",
    "\n",
    "\n",
    "\n"
   ]
  },
  {
   "cell_type": "code",
   "execution_count": 1,
   "metadata": {
    "id": "ESimAJbPMxhh"
   },
   "outputs": [],
   "source": [
    "# import the necessary libraries and packages\n",
    "from __future__ import print_function\n",
    "from sklearn.neighbors import KNeighborsClassifier\n",
    "import sklearn.metrics as metrics\n",
    "from sklearn.metrics import classification_report\n",
    "from sklearn import datasets\n",
    "from skimage import exposure\n",
    "import numpy as np\n",
    "import imutils\n",
    "import cv2\n",
    "import sklearn\n",
    "from sklearn.model_selection import train_test_split\n",
    "import matplotlib.pyplot as plt\n",
    "import pandas as pd\n",
    "\n"
   ]
  },
  {
   "cell_type": "markdown",
   "metadata": {
    "id": "bTVCx7zhO93O"
   },
   "source": [
    "## Run the code with IRIS dataset\n",
    "## Import and process your data to get ready to act as inputs to the KNN model\n",
    "\n",
    "\n"
   ]
  },
  {
   "cell_type": "code",
   "execution_count": 2,
   "metadata": {
    "colab": {
     "base_uri": "https://localhost:8080/"
    },
    "id": "YgfO1dDhO9D1",
    "outputId": "dae0517a-553c-45cb-9386-b79cb5cb68e4"
   },
   "outputs": [
    {
     "name": "stdout",
     "output_type": "stream",
     "text": [
      "The shape of the IRIS dataset is (150, 4)\n",
      "\n",
      "There are 3 classes in the IRIS dataset\n",
      "\n",
      " The classes in the IRIS dataset are [0 1 2]\n"
     ]
    }
   ],
   "source": [
    "#Load in IRIS as dataset #2\n",
    "dataset_2 = datasets.load_iris()\n",
    "dataset_2_name = 'IRIS'\n",
    "\n",
    "#look at the shape of your data, the number and name of classes\n",
    "print('The shape of the {} dataset is {}'.format(dataset_2_name, dataset_2.data.shape))\n",
    "\n",
    "#print('\\nThis means we have {} {} x {} images'.format(dataset_1.images.shape[0], dataset_1.images.shape[1], dataset_1.images.shape[1]))\n",
    "\n",
    "print('\\nThere are {} classes in the {} dataset'.format(len(np.unique(dataset_2.target)), dataset_2_name))\n",
    "\n",
    "print('\\n The classes in the {} dataset are {}'.format(dataset_2_name, np.unique(dataset_2.target)))\n"
   ]
  },
  {
   "cell_type": "code",
   "execution_count": 3,
   "metadata": {
    "id": "Yt-30wAKa6C9"
   },
   "outputs": [],
   "source": [
    "#######.    HINT    #############\n",
    "# For Q5 you will have to comment this out because the data is tabular rather than image based\n",
    "\n",
    "# Visualize a few  examples of what the data looks like\n",
    "#plt.gray()\n",
    "#plt.suptitle('Example {} images'.format(dataset_name))\n",
    "#for i in range(1,11):\n",
    "  #plt.subplot(2,5,i)\n",
    "  #plt.imshow(dataset_1.images[i])"
   ]
  },
  {
   "cell_type": "markdown",
   "metadata": {
    "id": "chVCNUTui1r_"
   },
   "source": [
    "#### Split the data into train, test, and validation sets"
   ]
  },
  {
   "cell_type": "code",
   "execution_count": 4,
   "metadata": {
    "colab": {
     "base_uri": "https://localhost:8080/"
    },
    "id": "_d-_o-BmWNUk",
    "outputId": "8eda9442-b72a-4149-8d35-aae613228c02"
   },
   "outputs": [
    {
     "name": "stdout",
     "output_type": "stream",
     "text": [
      "IRIS training data points: 100\n",
      "IRIS validation data points: 12\n",
      "IRIS testing data points: 38\n"
     ]
    }
   ],
   "source": [
    "# take the data and construct the training and testing split, using 75% of the\n",
    "# data for training and 25% for testing\n",
    "(trainData, testData, trainLabels, testLabels) = train_test_split(np.array(dataset_2.data),\n",
    "\tdataset_2.target, test_size=0.25, random_state=42)\n",
    "\n",
    "# now, let's take 10% of the training data and use that for validation\n",
    "(trainData, valData, trainLabels, valLabels) = train_test_split(trainData, trainLabels,\n",
    "\ttest_size=0.1, random_state=84)\n",
    "\n",
    "# show the sizes of each data split\n",
    "print(\"{} training data points: {}\".format(dataset_2_name, len(trainLabels)))\n",
    "print(\"{} validation data points: {}\".format(dataset_2_name, len(valLabels)))\n",
    "print(\"{} testing data points: {}\".format(dataset_2_name, len(testLabels)))\n"
   ]
  },
  {
   "cell_type": "markdown",
   "metadata": {
    "id": "NxT1nDa7O9bu"
   },
   "source": [
    "## Find the optimal performance for k on the validation set\n",
    "K is a *hyperparamter* of the KNN model, meaning it needs to be tuned or chosen by the ML practitioner. We do this by evaluating the model on a preliminary validation set"
   ]
  },
  {
   "cell_type": "code",
   "execution_count": 5,
   "metadata": {
    "id": "TIXYmJnUjDpk"
   },
   "outputs": [],
   "source": [
    "#Create an array of all of the k-values we would like to evaluate \n",
    "k_values = range(1,100)\n",
    "\n",
    "#Create an empty array that will store the accuracy values for each value of k\n",
    "acc_list = []\n",
    "\n",
    "for k in k_values:\n",
    "  #Initialize the KNN model \n",
    "  knn = KNeighborsClassifier(n_neighbors=k)\n",
    "\n",
    "  #Fit the model using the training data\n",
    "  knn.fit(trainData, trainLabels)\n",
    "\n",
    "  #Predict labels for the validation set\n",
    "  pred = knn.predict(valData)\n",
    "\n",
    "  #Evaluate model accuracy and save to a list for later analysis\n",
    "  acc_list.append(metrics.accuracy_score(pred, valLabels))\n"
   ]
  },
  {
   "cell_type": "code",
   "execution_count": 6,
   "metadata": {
    "colab": {
     "base_uri": "https://localhost:8080/",
     "height": 330
    },
    "id": "Q48hw5Kbl9ac",
    "outputId": "29b47188-570f-491c-dd4b-3ccddd82570e"
   },
   "outputs": [
    {
     "name": "stdout",
     "output_type": "stream",
     "text": [
      "The best accuracy was 0.9166666666666666\n",
      "The K values where the accuracy is highest are (array([ 5,  6,  7,  8,  9, 10, 11, 12, 13, 17, 18, 19, 20]),)\n"
     ]
    },
    {
     "data": {
      "image/png": "[encoded data removed]",
      "text/plain": [
       "<Figure size 432x288 with 1 Axes>"
      ]
     },
     "metadata": {
      "needs_background": "light"
     },
     "output_type": "display_data"
    }
   ],
   "source": [
    "#Create a plot showing the relationship between the values of k and accuracy\n",
    "plt.title('Validation accuracy at different k-values')\n",
    "plt.xlabel('K value')\n",
    "plt.ylabel('Validation Accuracy')\n",
    "\n",
    "plt.plot(k_values, acc_list)\n",
    "\n",
    "#Find the best value for K to be used for the test set \n",
    "print('The best accuracy was {}'.format(max(acc_list)))\n",
    "idx = np.where(acc_list == np.max(acc_list))\n",
    "print('The K values where the accuracy is highest are {}'.format(idx))\n"
   ]
  },
  {
   "cell_type": "markdown",
   "metadata": {
    "id": "3i3Ftn2kqSiM"
   },
   "source": [
    "## Test the model with your selected hyperparameters \n",
    "After visual inspection I chose a k-value of 10. Although they are all equal having more points improves model robustness but I can see there is a steep decline in performance after 15."
   ]
  },
  {
   "cell_type": "code",
   "execution_count": 7,
   "metadata": {
    "colab": {
     "base_uri": "https://localhost:8080/"
    },
    "id": "v6edV8iprRxQ",
    "outputId": "363c93ef-e09a-442b-d4c2-ccb0c827d817"
   },
   "outputs": [
    {
     "name": "stdout",
     "output_type": "stream",
     "text": [
      "Final test accuracy is 1.0 for IRIS\n"
     ]
    }
   ],
   "source": [
    "#Retrain the model with the selected k_value\n",
    "#Initialize the KNN model \n",
    "k=10\n",
    "knn = KNeighborsClassifier(n_neighbors=k)\n",
    "\n",
    "#Fit the model using the training data\n",
    "knn.fit(trainData, trainLabels)\n",
    "\n",
    "#Predict labels for the test set\n",
    "pred_test = knn.predict(testData)\n",
    "test_acc = metrics.accuracy_score(pred_test, testLabels)\n",
    "print('Final test accuracy is {} for {}'.format(test_acc, dataset_2_name))"
   ]
  },
  {
   "cell_type": "markdown",
   "metadata": {
    "id": "TTTj76zj3P5x"
   },
   "source": [
    "## Running the code with IRIS as a data frame"
   ]
  },
  {
   "cell_type": "code",
   "execution_count": 8,
   "metadata": {
    "colab": {
     "base_uri": "https://localhost:8080/"
    },
    "id": "oFC-BbB1hQdI",
    "outputId": "83cf11c8-89eb-4a62-cf83-0ece2eae074b"
   },
   "outputs": [
    {
     "data": {
      "text/plain": [
       "<bound method NDFrame.head of      sepal length (cm)  sepal width (cm)  petal length (cm)  petal width (cm)\n",
       "0                  5.1               3.5                1.4               0.2\n",
       "1                  4.9               3.0                1.4               0.2\n",
       "2                  4.7               3.2                1.3               0.2\n",
       "3                  4.6               3.1                1.5               0.2\n",
       "4                  5.0               3.6                1.4               0.2\n",
       "..                 ...               ...                ...               ...\n",
       "145                6.7               3.0                5.2               2.3\n",
       "146                6.3               2.5                5.0               1.9\n",
       "147                6.5               3.0                5.2               2.0\n",
       "148                6.2               3.4                5.4               2.3\n",
       "149                5.9               3.0                5.1               1.8\n",
       "\n",
       "[150 rows x 4 columns]>"
      ]
     },
     "execution_count": 8,
     "metadata": {},
     "output_type": "execute_result"
    }
   ],
   "source": [
    "# Loading iris dataset\n",
    "dataset_2df = pd.DataFrame(dataset_2.data, columns = dataset_2.feature_names)\n",
    "dataset_2df.head"
   ]
  },
  {
   "cell_type": "code",
   "execution_count": 9,
   "metadata": {
    "colab": {
     "base_uri": "https://localhost:8080/"
    },
    "id": "s52LAzjF0dD-",
    "outputId": "01e9fd0c-1b02-4072-8e39-c53a2eabfb0f"
   },
   "outputs": [
    {
     "name": "stdout",
     "output_type": "stream",
     "text": [
      "The shape of the IRIS dataset is (150, 4)\n",
      "\n",
      "There are 3 classes in the IRIS dataset\n",
      "\n",
      " The classes in the IRIS dataset are [0 1 2]\n"
     ]
    }
   ],
   "source": [
    "#look at the shape of your data, the number and name of classes\n",
    "print('The shape of the {} dataset is {}'.format(dataset_2_name, dataset_2df.shape))\n",
    "\n",
    "#print('\\nThis means we have {} {} x {} images'.format(dataset_1.images.shape[0], dataset_1.images.shape[1], dataset_1.images.shape[1]))\n",
    "\n",
    "print('\\nThere are {} classes in the {} dataset'.format(len(np.unique(dataset_2.target)), dataset_2_name))\n",
    "\n",
    "print('\\n The classes in the {} dataset are {}'.format(dataset_2_name, np.unique(dataset_2.target)))"
   ]
  },
  {
   "cell_type": "code",
   "execution_count": 10,
   "metadata": {
    "colab": {
     "base_uri": "https://localhost:8080/"
    },
    "id": "ZWh6QHud1Ci0",
    "outputId": "ec4dcb94-3545-489a-fd9d-bad6337663d2"
   },
   "outputs": [
    {
     "name": "stdout",
     "output_type": "stream",
     "text": [
      "IRIS training data points: 100\n",
      "IRIS validation data points: 12\n",
      "IRIS testing data points: 38\n"
     ]
    }
   ],
   "source": [
    "# take the data and construct the training and testing split, using 75% of the\n",
    "# data for training and 25% for testing\n",
    "(trainData, testData, trainLabels, testLabels) = train_test_split(np.array(dataset_2df),\n",
    "\tdataset_2.target, test_size=0.25, random_state=42)\n",
    "\n",
    "# now, let's take 10% of the training data and use that for validation\n",
    "(trainData, valData, trainLabels, valLabels) = train_test_split(trainData, trainLabels,\n",
    "\ttest_size=0.1, random_state=84)\n",
    "\n",
    "# show the sizes of each data split\n",
    "print(\"{} training data points: {}\".format(dataset_2_name, len(trainLabels)))\n",
    "print(\"{} validation data points: {}\".format(dataset_2_name, len(valLabels)))\n",
    "print(\"{} testing data points: {}\".format(dataset_2_name, len(testLabels)))"
   ]
  },
  {
   "cell_type": "code",
   "execution_count": 11,
   "metadata": {
    "id": "BCZ4qIX52Bps"
   },
   "outputs": [],
   "source": [
    "#Create an array of all of the k-values we would like to evaluate \n",
    "k_values = range(1,100)\n",
    "\n",
    "#Create an empty array that will store the accuracy values for each value of k\n",
    "acc_list = []\n",
    "\n",
    "for k in k_values:\n",
    "  #Initialize the KNN model \n",
    "  knn = KNeighborsClassifier(n_neighbors=k)\n",
    "\n",
    "  #Fit the model using the training data\n",
    "  knn.fit(trainData, trainLabels)\n",
    "\n",
    "  #Predict labels for the validation set\n",
    "  pred = knn.predict(valData)\n",
    "\n",
    "  #Evaluate model accuracy and save to a list for later analysis\n",
    "  acc_list.append(metrics.accuracy_score(pred, valLabels))"
   ]
  },
  {
   "cell_type": "code",
   "execution_count": 12,
   "metadata": {
    "colab": {
     "base_uri": "https://localhost:8080/",
     "height": 330
    },
    "id": "9H6uYeVz2Gub",
    "outputId": "4f6625fc-9a64-45c7-c3b8-ec949afeed79"
   },
   "outputs": [
    {
     "name": "stdout",
     "output_type": "stream",
     "text": [
      "The best accuracy was 0.9166666666666666\n",
      "The K values where the accuracy is highest are (array([ 5,  6,  7,  8,  9, 10, 11, 12, 13, 17, 18, 19, 20]),)\n"
     ]
    },
    {
     "data": {
      "image/png": "[encoded data removed]",
      "text/plain": [
       "<Figure size 432x288 with 1 Axes>"
      ]
     },
     "metadata": {
      "needs_background": "light"
     },
     "output_type": "display_data"
    }
   ],
   "source": [
    "#Create a plot showing the relationship between the values of k and accuracy\n",
    "plt.title('Validation accuracy at different k-values')\n",
    "plt.xlabel('K value')\n",
    "plt.ylabel('Validation Accuracy')\n",
    "\n",
    "plt.plot(k_values, acc_list)\n",
    "\n",
    "#Find the best value for K to be used for the test set \n",
    "print('The best accuracy was {}'.format(max(acc_list)))\n",
    "idx = np.where(acc_list == np.max(acc_list))\n",
    "print('The K values where the accuracy is highest are {}'.format(idx))"
   ]
  },
  {
   "cell_type": "code",
   "execution_count": 13,
   "metadata": {
    "colab": {
     "base_uri": "https://localhost:8080/"
    },
    "id": "hjQ4Jmg32MPz",
    "outputId": "48a569be-ca24-4512-c088-97f78bebdffe"
   },
   "outputs": [
    {
     "name": "stdout",
     "output_type": "stream",
     "text": [
      "Final test accuracy is 1.0 for IRIS\n"
     ]
    }
   ],
   "source": [
    "#Retrain the model with the selected k_value\n",
    "#Initialize the KNN model \n",
    "k=10\n",
    "knn = KNeighborsClassifier(n_neighbors=k)\n",
    "\n",
    "#Fit the model using the training data\n",
    "knn.fit(trainData, trainLabels)\n",
    "\n",
    "#Predict labels for the test set\n",
    "pred_test = knn.predict(testData)\n",
    "test_acc = metrics.accuracy_score(pred_test, testLabels)\n",
    "print('Final test accuracy is {} for {}'.format(test_acc, dataset_2_name))"
   ]
  },
  {
   "cell_type": "markdown",
   "metadata": {
    "id": "kgoKxhiw3tWK"
   },
   "source": [
    "## Running the code with IRIS as a dataframe, but selecting just the first two features (sepal_len and sepal_wid)"
   ]
  },
  {
   "cell_type": "code",
   "execution_count": 15,
   "metadata": {
    "colab": {
     "base_uri": "https://localhost:8080/"
    },
    "id": "qfCtMxO50QIJ",
    "outputId": "a7a90e85-6771-4385-d242-898385485592"
   },
   "outputs": [
    {
     "data": {
      "text/plain": [
       "<bound method NDFrame.head of      sepal length (cm)  sepal width (cm)\n",
       "0                  5.1               3.5\n",
       "1                  4.9               3.0\n",
       "2                  4.7               3.2\n",
       "3                  4.6               3.1\n",
       "4                  5.0               3.6\n",
       "..                 ...               ...\n",
       "145                6.7               3.0\n",
       "146                6.3               2.5\n",
       "147                6.5               3.0\n",
       "148                6.2               3.4\n",
       "149                5.9               3.0\n",
       "\n",
       "[150 rows x 2 columns]>"
      ]
     },
     "execution_count": 15,
     "metadata": {},
     "output_type": "execute_result"
    }
   ],
   "source": [
    "dataset_2df_2=dataset_2df.iloc[:,[0,1]]\n",
    "dataset_2df_2.head"
   ]
  },
  {
   "cell_type": "code",
   "execution_count": 16,
   "metadata": {
    "colab": {
     "base_uri": "https://localhost:8080/"
    },
    "id": "ffNGw_N5ucb_",
    "outputId": "c7d8c664-ebe5-4643-da03-9fc1175bd071"
   },
   "outputs": [
    {
     "name": "stdout",
     "output_type": "stream",
     "text": [
      "The shape of the IRIS dataset is (150, 2)\n",
      "\n",
      "There are 3 classes in the IRIS dataset\n",
      "\n",
      " The classes in the IRIS dataset are [0 1 2]\n"
     ]
    }
   ],
   "source": [
    "#look at the shape of your data, the number and name of classes\n",
    "print('The shape of the {} dataset is {}'.format(dataset_2_name, dataset_2df_2.shape))\n",
    "\n",
    "#print('\\nThis means we have {} {} x {} images'.format(dataset_1.images.shape[0], dataset_1.images.shape[1], dataset_1.images.shape[1]))\n",
    "\n",
    "print('\\nThere are {} classes in the {} dataset'.format(len(np.unique(dataset_2.target)), dataset_2_name))\n",
    "\n",
    "print('\\n The classes in the {} dataset are {}'.format(dataset_2_name, np.unique(dataset_2.target)))"
   ]
  },
  {
   "cell_type": "code",
   "execution_count": 17,
   "metadata": {
    "colab": {
     "base_uri": "https://localhost:8080/"
    },
    "id": "BZJitazQ2iDv",
    "outputId": "3eb33ad9-2103-4baa-c903-2d4d9bd5115c"
   },
   "outputs": [
    {
     "name": "stdout",
     "output_type": "stream",
     "text": [
      "IRIS training data points: 100\n",
      "IRIS validation data points: 12\n",
      "IRIS testing data points: 38\n"
     ]
    }
   ],
   "source": [
    "# take the data and construct the training and testing split, using 75% of the\n",
    "# data for training and 25% for testing\n",
    "(trainData, testData, trainLabels, testLabels) = train_test_split(np.array(dataset_2df_2),\n",
    "\tdataset_2.target, test_size=0.25, random_state=42)\n",
    "\n",
    "# now, let's take 10% of the training data and use that for validation\n",
    "(trainData, valData, trainLabels, valLabels) = train_test_split(trainData, trainLabels,\n",
    "\ttest_size=0.1, random_state=84)\n",
    "\n",
    "# show the sizes of each data split\n",
    "print(\"{} training data points: {}\".format(dataset_2_name, len(trainLabels)))\n",
    "print(\"{} validation data points: {}\".format(dataset_2_name, len(valLabels)))\n",
    "print(\"{} testing data points: {}\".format(dataset_2_name, len(testLabels)))"
   ]
  },
  {
   "cell_type": "code",
   "execution_count": 18,
   "metadata": {
    "id": "wH9utStB2sJe"
   },
   "outputs": [],
   "source": [
    "#Create an array of all of the k-values we would like to evaluate \n",
    "k_values = range(1,100)\n",
    "\n",
    "#Create an empty array that will store the accuracy values for each value of k\n",
    "acc_list = []\n",
    "\n",
    "for k in k_values:\n",
    "  #Initialize the KNN model \n",
    "  knn = KNeighborsClassifier(n_neighbors=k)\n",
    "\n",
    "  #Fit the model using the training data\n",
    "  knn.fit(trainData, trainLabels)\n",
    "\n",
    "  #Predict labels for the validation set\n",
    "  pred = knn.predict(valData)\n",
    "\n",
    "  #Evaluate model accuracy and save to a list for later analysis\n",
    "  acc_list.append(metrics.accuracy_score(pred, valLabels))"
   ]
  },
  {
   "cell_type": "code",
   "execution_count": 19,
   "metadata": {
    "colab": {
     "base_uri": "https://localhost:8080/",
     "height": 330
    },
    "id": "PttTkXCT2xDm",
    "outputId": "c71ef9b9-f0c7-43ed-e40e-578d7c3e05c9"
   },
   "outputs": [
    {
     "name": "stdout",
     "output_type": "stream",
     "text": [
      "The best accuracy was 0.75\n",
      "The K values where the accuracy is highest are (array([15, 16, 17, 53, 55, 56, 57]),)\n"
     ]
    },
    {
     "data": {
      "image/png": "[encoded data removed]",
      "text/plain": [
       "<Figure size 432x288 with 1 Axes>"
      ]
     },
     "metadata": {
      "needs_background": "light"
     },
     "output_type": "display_data"
    }
   ],
   "source": [
    "#Create a plot showing the relationship between the values of k and accuracy\n",
    "plt.title('Validation accuracy at different k-values')\n",
    "plt.xlabel('K value')\n",
    "plt.ylabel('Validation Accuracy')\n",
    "\n",
    "plt.plot(k_values, acc_list)\n",
    "\n",
    "#Find the best value for K to be used for the test set \n",
    "print('The best accuracy was {}'.format(max(acc_list)))\n",
    "idx = np.where(acc_list == np.max(acc_list))\n",
    "print('The K values where the accuracy is highest are {}'.format(idx))"
   ]
  },
  {
   "cell_type": "code",
   "execution_count": 20,
   "metadata": {
    "colab": {
     "base_uri": "https://localhost:8080/"
    },
    "id": "Ki_w_5XH26Dh",
    "outputId": "1a9c2bc5-d18a-47c8-e4a9-4c6547eb4b9d"
   },
   "outputs": [
    {
     "name": "stdout",
     "output_type": "stream",
     "text": [
      "Final test accuracy is 0.8157894736842105 for IRIS\n"
     ]
    }
   ],
   "source": [
    "#Retrain the model with the selected k_value\n",
    "#Initialize the KNN model \n",
    "k=10\n",
    "knn = KNeighborsClassifier(n_neighbors=k)\n",
    "\n",
    "#Fit the model using the training data\n",
    "knn.fit(trainData, trainLabels)\n",
    "\n",
    "#Predict labels for the test set\n",
    "pred_test = knn.predict(testData)\n",
    "test_acc = metrics.accuracy_score(pred_test, testLabels)\n",
    "print('Final test accuracy is {} for {}'.format(test_acc, dataset_2_name))"
   ]
  }
 ],
 "metadata": {
  "colab": {
   "provenance": []
  },
  "kernelspec": {
   "display_name": "Python 3 (ipykernel)",
   "language": "python",
   "name": "python3"
  },
  "language_info": {
   "codemirror_mode": {
    "name": "ipython",
    "version": 3
   },
   "file_extension": ".py",
   "mimetype": "text/x-python",
   "name": "python",
   "nbconvert_exporter": "python",
   "pygments_lexer": "ipython3",
   "version": "3.11.5"
  }
 },
 "nbformat": 4,
 "nbformat_minor": 4
}
